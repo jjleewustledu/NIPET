{
 "cells": [
  {
   "cell_type": "markdown",
   "metadata": {},
   "source": [
    "# Imports"
   ]
  },
  {
   "cell_type": "code",
   "execution_count": null,
   "metadata": {},
   "outputs": [],
   "source": [
    "# imports\n",
    "from __future__ import print_function, division\n",
    "%matplotlib notebook\n",
    "\n",
    "from niftypet import nipet\n",
    "from niftypet import nimpa\n",
    "\n",
    "from os import path\n",
    "import matplotlib.pyplot as plt\n",
    "import ipywidgets as ipyw\n",
    "from tqdm.auto import trange\n",
    "from brainweb import volshow\n",
    "from scipy.ndimage.filters import gaussian_filter\n",
    "\n",
    "import logging\n",
    "logging.basicConfig(level=logging.INFO)\n",
    "\n",
    "print(nimpa.gpuinfo())\n",
    "\n",
    "# get all the scanner parameters\n",
    "mMRpars = nipet.get_mmrparams()"
   ]
  },
  {
   "cell_type": "markdown",
   "metadata": {},
   "source": [
    "# Load & Process Raw Data"
   ]
  },
  {
   "cell_type": "code",
   "execution_count": null,
   "metadata": {},
   "outputs": [],
   "source": [
    "folderin = \"amyloidPET_FBP_TP0\"\n",
    "\n",
    "# automatically categorise the input data\n",
    "#logging.getLogger().setLevel(logging.INFO)\n",
    "datain = nipet.classify_input(folderin, mMRpars)\n",
    "\n",
    "# output path\n",
    "opth = path.join(datain['corepath'], 'niftyout')\n",
    "# switch on verbose mode\n",
    "#logging.getLogger().setLevel(logging.DEBUG)\n",
    "\n",
    "datain"
   ]
  },
  {
   "cell_type": "code",
   "execution_count": null,
   "metadata": {},
   "outputs": [],
   "source": [
    "# hardware mu-map (bed, head/neck coils)\n",
    "muhdct = nipet.hdw_mumap(datain, [1,2,4], mMRpars, outpath=opth, use_stored=True)"
   ]
  },
  {
   "cell_type": "code",
   "execution_count": null,
   "metadata": {},
   "outputs": [],
   "source": [
    "# MR-based human mu-map\n",
    "\n",
    "# UTE-based object mu-map aligned (need UTE sequence or T1 for pseudo-CT)\n",
    "#muodct = nipet.align_mumap(\n",
    "#    datain,\n",
    "#    scanner_params=mMRpars,\n",
    "#    outpath=opth,\n",
    "#    t0=0, t1=0, # when both times are 0, will use full data\n",
    "#    itr=2,      # number of iterations used for recon to which registering MR/UTE\n",
    "#    petopt='ac',# what PET image to use (ac-just attenuation corrected)\n",
    "#    musrc='ute',# source of mu-map (ute/pct)\n",
    "#    ute_name='UTE2', # which UTE to use (UTE1/2 shorter/faster)\n",
    "#    verbose=True,\n",
    "#)\n",
    "\n",
    "#> the same as above without any faff though (no alignment)\n",
    "muodct = nipet.obj_mumap(datain, mMRpars, outpath=opth, store=True)"
   ]
  },
  {
   "cell_type": "code",
   "execution_count": null,
   "metadata": {},
   "outputs": [],
   "source": [
    "# create histogram\n",
    "hst = nipet.mmrhist(datain, mMRpars)"
   ]
  },
  {
   "cell_type": "markdown",
   "metadata": {},
   "source": [
    "## Visualisations"
   ]
  },
  {
   "cell_type": "code",
   "execution_count": null,
   "metadata": {},
   "outputs": [],
   "source": [
    "try:  # needs HW maps\n",
    "    volshow(muodct['im'] + muhdct['im'], cmaps=['bone'])\n",
    "except:\n",
    "    volshow(muodct['im'], cmaps=['bone'])"
   ]
  },
  {
   "cell_type": "code",
   "execution_count": null,
   "metadata": {},
   "outputs": [],
   "source": [
    "# sinogram index (<127 for direct sinograms, >=127 for oblique sinograms)\n",
    "volshow([hst['psino'], hst['dsino']],\n",
    "        titles=['prompt sinogram (%.3gM)' % (hst['psino'].sum() / 1e6),\n",
    "               'delayed sinogram (%.3gM)' % (hst['dsino'].sum() / 1e6)],\n",
    "        cmaps=['inferno'] * 2, xlabels=['', 'bins'], ylabels=['angles'] * 2);"
   ]
  },
  {
   "cell_type": "markdown",
   "metadata": {},
   "source": [
    "# Reconstruction"
   ]
  },
  {
   "cell_type": "markdown",
   "metadata": {},
   "source": [
    "## OSEM 14 subsets"
   ]
  },
  {
   "cell_type": "code",
   "execution_count": null,
   "metadata": {},
   "outputs": [],
   "source": [
    "recon = nipet.mmrchain(\n",
    "    datain, mMRpars,\n",
    "    frames=['timings', [3000, 3600]],\n",
    "    mu_h=muhdct,\n",
    "    mu_o=muodct,\n",
    "    itr=4,\n",
    "    histo=hst,\n",
    "    fwhm=0.0,\n",
    "    outpath=opth,\n",
    "    fcomment='niftypet-recon',\n",
    "    store_img=True)\n",
    "\n",
    "volshow(recon['im'][:, 100:-100, 100:-100], cmaps=['magma']);"
   ]
  },
  {
   "cell_type": "markdown",
   "metadata": {},
   "source": [
    "## MLEM"
   ]
  },
  {
   "cell_type": "code",
   "execution_count": null,
   "metadata": {},
   "outputs": [],
   "source": [
    "## Randoms\n",
    "\n",
    "rndsino, _ = nipet.randoms(hst, mMRpars)\n",
    "#volshow(rndsino, cmaps=['inferno'])\n",
    "print(\"Randoms: %.3g%%\" % (rndsino.sum() / hst['psino'].sum() * 100))"
   ]
  },
  {
   "cell_type": "code",
   "execution_count": null,
   "metadata": {},
   "outputs": [],
   "source": [
    "## Scatter\n",
    "\n",
    "# One OSEM iteration estimate (implicitly using voxel-driven scatter model)\n",
    "eim = nipet.mmrchain(\n",
    "    datain, mMRpars, mu_h=muhdct, mu_o=muodct, itr=1, outpath=opth)['im']\n",
    "# Recalculate scatter\n",
    "sctsino, sssr, amsk = nipet.vsm(\n",
    "    datain, (muhdct['im'], muodct['im']), eim, hst, rndsino, mMRpars)\n",
    "#volshow(sctsino, cmaps=['inferno'])\n",
    "print(\"Scatter: %.3g%%\" % (sctsino.sum() / hst['psino'].sum() * 100))\n",
    "\n",
    "## Attenuation, Normalisation & Sensitivity\n",
    "\n",
    "attsino = nipet.frwd_prj(muodct['im'] + muhdct['im'], mMRpars, attenuation=True)\n",
    "nrmsino = nipet.mmrnorm.get_norm_sino(datain, mMRpars, hst)\n",
    "ansino = attsino * nrmsino\n",
    "#volshow(ansino, title='Attenuation & Normalisation Sinogram',\n",
    "#        cmap='inferno', xlabel='bins', ylabel='angles')\n",
    "sim = nipet.back_prj(ansino, mMRpars)\n",
    "#volshow(sim, cmaps=['inferno'])"
   ]
  },
  {
   "cell_type": "code",
   "execution_count": null,
   "metadata": {},
   "outputs": [],
   "source": [
    "SIG2FWHM = np.array([4.783228, 4.912767, 4.912767])  # convert Gaussian sigma/[voxel] to FWHM/[mm]\n",
    "psfSigma = 2.5 / SIG2FWHM\n",
    "recon_mlem = [np.ones_like(sim)]\n",
    "msk = nipet.img.mmrimg.get_cylinder(mMRpars['Cnt'], rad=29., xo=0., yo=0., unival=1, gpu_dim=False) <= 0.9\n",
    "sim_inv = 1 / gaussian_filter(sim, psfSigma)\n",
    "sim_inv[msk] = 0\n",
    "rndsctsino = rndsino + sctsino\n",
    "for k in trange(4 * 14, desc=\"MLEM\"):\n",
    "    fprj = nipet.frwd_prj(gaussian_filter(recon_mlem[-1], psfSigma), mMRpars) + rndsctsino\n",
    "    recon_mlem.append(recon_mlem[-1] * sim_inv\n",
    "                      * gaussian_filter(nipet.back_prj(hst['psino'] / fprj, mMRpars), psfSigma))"
   ]
  },
  {
   "cell_type": "code",
   "execution_count": null,
   "metadata": {},
   "outputs": [],
   "source": [
    "# central slice across iterations\n",
    "volshow(np.asanyarray(recon_mlem[1::5])[:, :, 100:-100, 100:-100], cmaps=['magma'] * len(recon_mlem[1::5]));"
   ]
  }
 ],
 "metadata": {
  "kernelspec": {
   "display_name": "Python [conda env:niftypet]",
   "language": "python",
   "name": "conda-env-niftypet-py"
  },
  "language_info": {
   "codemirror_mode": {
    "name": "ipython"
   },
   "file_extension": ".py",
   "mimetype": "text/x-python",
   "name": "python",
   "nbconvert_exporter": "python"
  }
 },
 "nbformat": 4,
 "nbformat_minor": 2
}
