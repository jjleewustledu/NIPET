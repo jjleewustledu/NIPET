{
 "cells": [
  {
   "cell_type": "markdown",
   "metadata": {},
   "source": [
    "# imports"
   ]
  },
  {
   "cell_type": "code",
   "execution_count": null,
   "metadata": {},
   "outputs": [],
   "source": [
    "# imports\n",
    "%matplotlib notebook\n",
    "\n",
    "from niftypet import nipet\n",
    "from niftypet import nimpa\n",
    "\n",
    "from os import path\n",
    "import matplotlib.pyplot as plt\n",
    "import ipywidgets as ipyw\n",
    "\n",
    "import logging\n",
    "logging.basicConfig(level=logging.INFO)\n",
    "\n",
    "print(nimpa.gpuinfo())\n",
    "\n",
    "# get all the scanner parameters\n",
    "mMRpars = nipet.get_mmrparams()"
   ]
  },
  {
   "cell_type": "markdown",
   "metadata": {},
   "source": [
    "# load"
   ]
  },
  {
   "cell_type": "code",
   "execution_count": null,
   "metadata": {},
   "outputs": [],
   "source": [
    "folderin = \"amyloidPET_FBP_TP0\"\n",
    "\n",
    "# automatically categorise the input data\n",
    "#logging.getLogger().setLevel(logging.INFO)\n",
    "datain = nipet.classify_input(folderin, mMRpars)\n",
    "\n",
    "# output path\n",
    "opth = path.join(datain['corepath'], 'niftyout')\n",
    "# switch on verbose mode\n",
    "#logging.getLogger().setLevel(logging.DEBUG)\n",
    "\n",
    "datain"
   ]
  },
  {
   "cell_type": "code",
   "execution_count": null,
   "metadata": {},
   "outputs": [],
   "source": [
    "# obtain the hardware mu-map (the bed and the head&neck coil)\n",
    "muhdct = nipet.hdw_mumap(datain, [1,2,4], mMRpars, outpath=opth, use_stored=True)"
   ]
  },
  {
   "cell_type": "code",
   "execution_count": null,
   "metadata": {},
   "outputs": [],
   "source": [
    "# obtain the MR-based human mu-map\n",
    "\n",
    "#> UTE-based object mu-map aligned\n",
    "#muodct = nipet.align_mumap(\n",
    "#    datain,\n",
    "#    scanner_params=mMRpars,\n",
    "#    outpath=opth,\n",
    "#    t0=0, t1=0, # when both times are 0, will use full data\n",
    "#    itr=2,      # number of iterations used for recon to which registering MR/UTE\n",
    "#    petopt='ac',# what PET image to use (ac-just attenuation corrected)\n",
    "#    musrc='ute',# source of mu-map (ute/pct)\n",
    "#    ute_name='UTE2', # which UTE to use (UTE1/2 shorter/faster)\n",
    "#    verbose=True,\n",
    "#)\n",
    "\n",
    "#> the same as above without any faff though (no alignment)\n",
    "muodct = nipet.obj_mumap(datain, mMRpars, outpath=opth, store=True)"
   ]
  },
  {
   "cell_type": "markdown",
   "metadata": {},
   "source": [
    "# debug plots"
   ]
  },
  {
   "cell_type": "code",
   "execution_count": null,
   "metadata": {},
   "outputs": [],
   "source": [
    "plt.figure()\n",
    "def plot_image_with_colour_bar(iz=60):\n",
    "    \"\"\"iz  : int, axial index\"\"\"\n",
    "    plt.clf()\n",
    "    im = muodct['im'][iz,:,:]\n",
    "    try:  # needs HW maps\n",
    "        im = im + muhdct['im'][iz,:,:]\n",
    "    except:\n",
    "        pass\n",
    "    plt.imshow(im, cmap='bone')\n",
    "    plt.colorbar()\n",
    "    plt.show()\n",
    "\n",
    "ipyw.interact(plot_image_with_colour_bar,\n",
    "    iz=ipyw.IntSlider(min=0, max=len(muodct['im']), step=1, value=len(muodct['im'])//2));"
   ]
  },
  {
   "cell_type": "code",
   "execution_count": null,
   "metadata": {},
   "outputs": [],
   "source": [
    "hst = nipet.mmrhist(datain, mMRpars)"
   ]
  },
  {
   "cell_type": "code",
   "execution_count": null,
   "metadata": {},
   "outputs": [],
   "source": [
    "# sinogram index (<127 for direct sinograms, >=127 for oblique sinograms)\n",
    "si = 60\n",
    "\n",
    "plt.matshow(hst['psino'][si,:,:], cmap='inferno')\n",
    "plt.xlabel('bins')\n",
    "plt.ylabel('angles')\n",
    "plt.title('prompt sinogram')\n",
    "\n",
    "plt.matshow(hst['dsino'][si,:,:], cmap='inferno')\n",
    "plt.xlabel('bins')\n",
    "plt.ylabel('angles')\n",
    "plt.title('delayed sinogram');"
   ]
  },
  {
   "cell_type": "code",
   "execution_count": null,
   "metadata": {},
   "outputs": [],
   "source": [
    "('%.3gM ' * 2) % (hst['psino'].sum()/1e6, hst['dsino'].sum()/1e6)"
   ]
  },
  {
   "cell_type": "markdown",
   "metadata": {},
   "source": [
    "# recon"
   ]
  },
  {
   "cell_type": "markdown",
   "metadata": {},
   "source": [
    "## OSEM 14 subsets"
   ]
  },
  {
   "cell_type": "code",
   "execution_count": null,
   "metadata": {},
   "outputs": [],
   "source": [
    "recon = nipet.mmrchain(\n",
    "    datain, mMRpars,\n",
    "    frames=['timings', [3000, 3600]],\n",
    "    mu_h=muhdct,\n",
    "    mu_o=muodct,\n",
    "    itr=4,\n",
    "    fwhm=0.0,\n",
    "    outpath=opth,\n",
    "    fcomment='niftypet-recon',\n",
    "    store_img=True)"
   ]
  },
  {
   "cell_type": "code",
   "execution_count": null,
   "metadata": {},
   "outputs": [],
   "source": [
    "plt.figure()\n",
    "def plot_image_with_colour_bar(z=60):\n",
    "    \"\"\"z  : int, slice index\"\"\"\n",
    "    plt.clf()\n",
    "    ROI = slice(100, -100), slice(100, -100)\n",
    "\n",
    "    plt.subplot(1, 2, 1)\n",
    "    plt.imshow(recon['im'][z][ROI], cmap='magma')\n",
    "    plt.colorbar()\n",
    "\n",
    "    try:  # needs HW maps\n",
    "        im = muhdct['im'][z][ROI] + muodct['im'][z][ROI]\n",
    "    except:\n",
    "        im = muodct['im'][z][ROI]\n",
    "    plt.subplot(1, 2, 2)\n",
    "    plt.imshow(im, cmap='bone')\n",
    "    plt.colorbar()\n",
    "    plt.show()\n",
    "\n",
    "ipyw.interact(plot_image_with_colour_bar,\n",
    "    z=ipyw.IntSlider(min=0, max=len(recon['im']) - 1, step=1, value=len(recon['im'])//2));"
   ]
  }
 ],
 "metadata": {
  "kernelspec": {
   "display_name": "Python [conda env:niftypet]",
   "language": "python",
   "name": "conda-env-niftypet-py"
  },
  "language_info": {
   "codemirror_mode": {
    "name": "ipython"
   },
   "file_extension": ".py",
   "mimetype": "text/x-python",
   "name": "python",
   "nbconvert_exporter": "python"
  }
 },
 "nbformat": 4,
 "nbformat_minor": 2
}
