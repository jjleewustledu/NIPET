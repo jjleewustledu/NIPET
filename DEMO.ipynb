{
 "cells": [
  {
   "cell_type": "markdown",
   "metadata": {},
   "source": [
    "# NiftyPET Example\n",
    "\n",
    "This is a full demo of NiftyPET's default [OSEM](#OSEM \"ordered subsets expectation maximisation\") ($n_\\text{max}=14$ subsets, span 11, Siemens Biograph mMR resolution), as well as a custom, explicit [MLEM](#MLEM \"maximum likelihood expectation maximisation\") incorporating [RM](#RM \"resolution modelling\").\n",
    "\n",
    "\n",
    "Mathematically:\n",
    "\n",
    "$$\n",
    "\\theta^{(k+1)} = {\\theta^{(k)} \\over \\sum_n{H^TX_n^T1}}\n",
    "    \\circ\n",
    "    \\sum_n{ H^TX_n^T {m \\over X_nH\\theta^{(k)} + r + s} },\n",
    "$$\n",
    "\n",
    "- $k$ is iteration number\n",
    "- $H$ applies a Gaussian PSF\n",
    "- $X_n$ is the system matrix for subset $n$ (MLEM has just one subset)\n",
    "- $m, r, s$ are measured, randoms, and scatter\n",
    "\n",
    "## TODO\n",
    "\n",
    "- $A$, $N$ in equation?\n",
    "  + consistency with http://eknygos.lsmuni.lt/springer/370/63-91.pdf Eq. (45)\n",
    "\n",
    "----\n",
    "\n",
    "- Author: Casper O. da Costa-Luis [casper.dcl@{physics.org|ieee.org|kcl.ac.uk}](mailto:casper.dcl@physics.org)\n",
    "- Date: June 2019\n",
    "\n",
    "----\n",
    "\n",
    "# Imports"
   ]
  },
  {
   "cell_type": "code",
   "execution_count": null,
   "metadata": {},
   "outputs": [],
   "source": [
    "# imports\n",
    "from __future__ import print_function, division\n",
    "%matplotlib notebook\n",
    "\n",
    "from niftypet import nipet\n",
    "from niftypet import nimpa\n",
    "\n",
    "import matplotlib.pyplot as plt\n",
    "import numpy as np\n",
    "from scipy.ndimage.filters import gaussian_filter\n",
    "from tqdm.auto import trange\n",
    "from brainweb import volshow\n",
    "\n",
    "from os import path\n",
    "import functools\n",
    "import logging\n",
    "logging.basicConfig(level=logging.INFO)\n",
    "\n",
    "print(nimpa.gpuinfo())\n",
    "# get all the scanner parameters\n",
    "mMRpars = nipet.get_mmrparams()\n",
    "# conversion for Gaussian sigma/[voxel] to FWHM/[mm]\n",
    "SIGMA2FWHMmm = (8 * np.log(2))**0.5 * np.array([mMRpars['Cnt']['SO_VX' + i] for i in 'ZYX']) * 10"
   ]
  },
  {
   "cell_type": "markdown",
   "metadata": {},
   "source": [
    "# Load & Process Raw Data"
   ]
  },
  {
   "cell_type": "code",
   "execution_count": null,
   "metadata": {},
   "outputs": [],
   "source": [
    "folderin = \"amyloidPET_FBP_TP0\"\n",
    "\n",
    "# automatically categorise the input data\n",
    "#logging.getLogger().setLevel(logging.INFO)\n",
    "datain = nipet.classify_input(folderin, mMRpars)\n",
    "\n",
    "# output path\n",
    "opth = path.join(datain['corepath'], 'niftyout')\n",
    "# switch on verbose mode\n",
    "#logging.getLogger().setLevel(logging.DEBUG)\n",
    "\n",
    "datain"
   ]
  },
  {
   "cell_type": "code",
   "execution_count": null,
   "metadata": {},
   "outputs": [],
   "source": [
    "# hardware mu-map (bed, head/neck coils)\n",
    "mu_h = nipet.hdw_mumap(datain, [1,2,4], mMRpars, outpath=opth, use_stored=True)"
   ]
  },
  {
   "cell_type": "code",
   "execution_count": null,
   "metadata": {},
   "outputs": [],
   "source": [
    "# MR-based human mu-map\n",
    "\n",
    "# UTE-based object mu-map aligned (need UTE sequence or T1 for pseudo-CT)\n",
    "#mu_o = nipet.align_mumap(\n",
    "#    datain,\n",
    "#    scanner_params=mMRpars,\n",
    "#    outpath=opth,\n",
    "#    t0=0, t1=0, # when both times are 0, will use full data\n",
    "#    itr=2,      # number of iterations used for recon to which registering MR/UTE\n",
    "#    petopt='ac',# what PET image to use (ac-just attenuation corrected)\n",
    "#    musrc='ute',# source of mu-map (ute/pct)\n",
    "#    ute_name='UTE2', # which UTE to use (UTE1/2 shorter/faster)\n",
    "#    verbose=True,\n",
    "#)\n",
    "\n",
    "#> the same as above without any faff though (no alignment)\n",
    "mu_o = nipet.obj_mumap(datain, mMRpars, outpath=opth, store=True)"
   ]
  },
  {
   "cell_type": "code",
   "execution_count": null,
   "metadata": {},
   "outputs": [],
   "source": [
    "# create histogram\n",
    "if False:\n",
    "    mMRpars['Cnt']['BTP'] = 2  # enable parametric bootstrap\n",
    "    mMRpars['Cnt']['BTPRT'] = 3e6 / m['psino'].sum()  # ratio count level relative to the original\n",
    "m = nipet.mmrhist(datain, mMRpars)"
   ]
  },
  {
   "cell_type": "markdown",
   "metadata": {},
   "source": [
    "## Visualisations"
   ]
  },
  {
   "cell_type": "code",
   "execution_count": null,
   "metadata": {},
   "outputs": [],
   "source": [
    "try:  # needs HW mu-maps\n",
    "    volshow(mu_o['im'] + mu_h['im'], cmaps=['bone'], titles=[r\"$\\mu$-map\"])\n",
    "except:\n",
    "    volshow(mu_o['im'], cmaps=['bone'])"
   ]
  },
  {
   "cell_type": "code",
   "execution_count": null,
   "metadata": {},
   "outputs": [],
   "source": [
    "# sinogram index (<127 for direct sinograms, >=127 for oblique sinograms)\n",
    "volshow([m['psino'], m['dsino']],\n",
    "        titles=[\"Prompt sinogram (%.3gM)\" % (m['psino'].sum() / 1e6),\n",
    "               \"Delayed sinogram (%.3gM)\" % (m['dsino'].sum() / 1e6)],\n",
    "        cmaps=['inferno'] * 2, xlabels=[\"\", \"bins\"], ylabels=[\"angles\"] * 2);"
   ]
  },
  {
   "cell_type": "markdown",
   "metadata": {},
   "source": [
    "# Reconstruction"
   ]
  },
  {
   "cell_type": "markdown",
   "metadata": {},
   "source": [
    "## OSEM"
   ]
  },
  {
   "cell_type": "code",
   "execution_count": null,
   "metadata": {},
   "outputs": [],
   "source": [
    "# built-in default: 14 subsets\n",
    "recon = nipet.mmrchain(\n",
    "    datain, mMRpars,\n",
    "    frames=['timings', [3000, 3600]],\n",
    "    itr=4,\n",
    "    histo=m,\n",
    "    mu_h=mu_h,\n",
    "    mu_o=mu_o,\n",
    "    fwhm=2.5,\n",
    "    outpath=opth,\n",
    "    fcomment=\"niftypet-recon\",\n",
    "    store_img=True)\n",
    "\n",
    "volshow(recon['im'][:, 100:-100, 100:-100], cmaps=['magma']);"
   ]
  },
  {
   "cell_type": "markdown",
   "metadata": {},
   "source": [
    "## MLEM\n",
    "\n",
    "### TODO\n",
    "- check use of `A`, `N`, and `sim`"
   ]
  },
  {
   "cell_type": "code",
   "execution_count": null,
   "metadata": {},
   "outputs": [],
   "source": [
    "## Randoms\n",
    "\n",
    "r = nipet.randoms(m, mMRpars)[0]\n",
    "#volshow(r, cmaps=['inferno'])\n",
    "print(\"Randoms: %.3g%%\" % (r.sum() / m['psino'].sum() * 100))\n",
    "\n",
    "## Scatter\n",
    "\n",
    "# One OSEM iteration estimate (implicitly using voxel-driven scatter model)\n",
    "eim = nipet.mmrchain(datain, mMRpars, mu_h=mu_h, mu_o=mu_o, itr=1, outpath=opth)['im']\n",
    "# Recalculate scatter\n",
    "s = nipet.vsm(datain, (mu_h['im'], mu_o['im']), eim, m, r, mMRpars)[0]\n",
    "#volshow(s, cmaps=['inferno'])\n",
    "print(\"Scatter: %.3g%%\" % (s.sum() / m['psino'].sum() * 100))\n",
    "\n",
    "## Attenuation, Normalisation & Sensitivity\n",
    "\n",
    "A = nipet.frwd_prj(mu_h['im'] + mu_o['im'], mMRpars, attenuation=True)\n",
    "N = nipet.mmrnorm.get_norm_sino(datain, mMRpars, m)\n",
    "AN = A * N\n",
    "#volshow(AN, title='Attenuation & Normalisation Sinogram',\n",
    "#        cmap='inferno', xlabel='bins', ylabel='angles')\n",
    "sim = nipet.back_prj(AN, mMRpars)\n",
    "#volshow(sim, cmaps=['magma'], titles=[\"Sensitivity\"]);"
   ]
  },
  {
   "cell_type": "code",
   "execution_count": null,
   "metadata": {},
   "outputs": [],
   "source": [
    "## MLEM with RM\n",
    "\n",
    "psf = functools.partial(gaussian_filter, sigma=2.5 / SIGMA2FWHMmm)\n",
    "recon_mlem = [np.ones_like(sim)]\n",
    "msk = nipet.img.mmrimg.get_cylinder(mMRpars['Cnt'], rad=29., xo=0., yo=0., unival=1, gpu_dim=False) <= 0.9\n",
    "sim_inv = 1 / psf(sim)\n",
    "sim_inv[msk] = 0\n",
    "rs = r + s\n",
    "for k in trange(4 * 14, desc=\"MLEM\"):\n",
    "    fprj = nipet.frwd_prj(psf(recon_mlem[-1]), mMRpars) + rs\n",
    "    recon_mlem.append(recon_mlem[-1] * sim_inv * psf(nipet.back_prj(m['psino'] / fprj, mMRpars)))\n",
    "\n",
    "# central slice across iterations\n",
    "volshow(np.asanyarray(recon_mlem[1::5])[:, :, 100:-100, 100:-100], cmaps=['magma'] * len(recon_mlem[1::5]));"
   ]
  },
  {
   "cell_type": "code",
   "execution_count": null,
   "metadata": {},
   "outputs": [],
   "source": [
    "# central slice across iterations\n",
    "volshow(np.asanyarray(recon_mlem[1::5])[:, :, 100:-100, 100:-100], cmaps=['magma'] * len(recon_mlem[1::5]));"
   ]
  }
 ],
 "metadata": {
  "kernelspec": {
   "display_name": "Python [conda env:niftypet]",
   "language": "python",
   "name": "conda-env-niftypet-py"
  },
  "language_info": {
   "codemirror_mode": {
    "name": "ipython"
   },
   "file_extension": ".py",
   "mimetype": "text/x-python",
   "name": "python",
   "nbconvert_exporter": "python"
  }
 },
 "nbformat": 4,
 "nbformat_minor": 2
}
