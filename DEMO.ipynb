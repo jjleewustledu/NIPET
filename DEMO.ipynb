{
 "cells": [
  {
   "cell_type": "markdown",
   "metadata": {},
   "source": [
    "# imports"
   ]
  },
  {
   "cell_type": "code",
   "execution_count": null,
   "metadata": {},
   "outputs": [],
   "source": [
    "# imports\n",
    "from niftypet import nipet\n",
    "from niftypet import nimpa\n",
    "\n",
    "from os import path\n",
    "%matplotlib notebook\n",
    "import matplotlib.pyplot as plt\n",
    "import ipywidgets as ipyw\n",
    "\n",
    "import logging\n",
    "logging.basicConfig(level=logging.DEBUG)\n",
    "\n",
    "print(nimpa.gpuinfo())\n",
    "\n",
    "# get all the scanner parameters\n",
    "mMRpars = nipet.get_mmrparams()"
   ]
  },
  {
   "cell_type": "markdown",
   "metadata": {},
   "source": [
    "# load"
   ]
  },
  {
   "cell_type": "code",
   "execution_count": null,
   "metadata": {},
   "outputs": [],
   "source": [
    "folderin = \"amyloidPET_FBP_TP0\"\n",
    "# automatically categorise the input data\n",
    "logging.getLogger().setLevel(logging.INFO)\n",
    "datain = nipet.classify_input(folderin, mMRpars)\n",
    "\n",
    "# output path\n",
    "opth = path.join(datain['corepath'], 'niftyout')\n",
    "# switch on verbose mode\n",
    "logging.getLogger().setLevel(logging.DEBUG)"
   ]
  },
  {
   "cell_type": "code",
   "execution_count": null,
   "metadata": {},
   "outputs": [],
   "source": [
    "datain"
   ]
  },
  {
   "cell_type": "code",
   "execution_count": null,
   "metadata": {},
   "outputs": [],
   "source": [
    "# obtain the hardware mu-map (the bed and the head&neck coil)\n",
    "muhdct = nipet.hdw_mumap(datain, [1,2,4], mMRpars, outpath=opth, use_stored=True)"
   ]
  },
  {
   "cell_type": "code",
   "execution_count": null,
   "metadata": {},
   "outputs": [],
   "source": [
    "# obtain the MR-based human mu-map\n",
    "muodct = nipet.obj_mumap(datain, mMRpars, outpath=opth, store=True)"
   ]
  },
  {
   "cell_type": "markdown",
   "metadata": {},
   "source": [
    "# debug plots"
   ]
  },
  {
   "cell_type": "code",
   "execution_count": null,
   "metadata": {},
   "outputs": [],
   "source": [
    "plt.figure()\n",
    "def plot_image_with_colour_bar(iz=60):\n",
    "    \"\"\"iz  : int, axial index\"\"\"\n",
    "    try:  # needs HW maps\n",
    "        im = muhdct['im'][iz,:,:] + muodct['im'][iz,:,:]\n",
    "    except:\n",
    "        im = muodct['im'][iz,:,:]\n",
    "    plt.clf()\n",
    "    plt.imshow(im, cmap='bone')\n",
    "    plt.colorbar()\n",
    "    plt.show()\n",
    "\n",
    "ipyw.interact(plot_image_with_colour_bar,\n",
    "    iz=ipyw.IntSlider(min=0, max=len(muodct['im']), step=1, value=len(muodct['im'])//2));"
   ]
  },
  {
   "cell_type": "code",
   "execution_count": null,
   "metadata": {},
   "outputs": [],
   "source": [
    "hst = nipet.mmrhist(datain, mMRpars)"
   ]
  },
  {
   "cell_type": "code",
   "execution_count": null,
   "metadata": {},
   "outputs": [],
   "source": [
    "# sinogram index (<127 for direct sinograms, >=127 for oblique sinograms)\n",
    "si = 60\n",
    "\n",
    "plt.matshow(hst['psino'][si,:,:], cmap='inferno')\n",
    "plt.xlabel('bins')\n",
    "plt.ylabel('angles')\n",
    "plt.title('prompt sinogram')\n",
    "\n",
    "plt.matshow(hst['dsino'][si,:,:], cmap='inferno')\n",
    "plt.xlabel('bins')\n",
    "plt.ylabel('angles')\n",
    "plt.title('delayed sinogram');"
   ]
  },
  {
   "cell_type": "markdown",
   "metadata": {},
   "source": [
    "# recon"
   ]
  },
  {
   "cell_type": "code",
   "execution_count": null,
   "metadata": {},
   "outputs": [],
   "source": [
    "# OSEM 14 subsets\n",
    "recon = nipet.mmrchain(\n",
    "    datain, mMRpars,\n",
    "    frames=['timings', [3000, 3600]],\n",
    "    mu_h=muhdct,\n",
    "    mu_o=muodct,\n",
    "    itr=4,\n",
    "    fwhm=0.0,\n",
    "    outpath=opth,\n",
    "    fcomment='niftypet-recon',\n",
    "    store_img=True)"
   ]
  },
  {
   "cell_type": "code",
   "execution_count": null,
   "metadata": {},
   "outputs": [],
   "source": [
    "plt.figure()\n",
    "def plot_image_with_colour_bar(z=60):\n",
    "    \"\"\"z  : int, slice index\"\"\"\n",
    "    plt.clf()\n",
    "    ROI = slice(100, -100), slice(100, -100)\n",
    "    plt.imshow(recon['im'][z][ROI], cmap='magma')\n",
    "    plt.colorbar()\n",
    "    plt.show()\n",
    "\n",
    "ipyw.interact(plot_image_with_colour_bar,\n",
    "    z=ipyw.IntSlider(min=0, max=len(recon['im']) - 1, step=1, value=len(recon['im'])//2));"
   ]
  }
 ],
 "metadata": {
  "kernelspec": {
   "display_name": "Python [conda env:niftypet]",
   "language": "python",
   "name": "conda-env-niftypet-py"
  },
  "language_info": {
   "codemirror_mode": {
    "name": "ipython"
   },
   "file_extension": ".py",
   "mimetype": "text/x-python",
   "name": "python",
   "nbconvert_exporter": "python"
  }
 },
 "nbformat": 4,
 "nbformat_minor": 2
}
